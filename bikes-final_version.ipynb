{
 "cells": [
  {
   "cell_type": "code",
   "execution_count": 1,
   "metadata": {
    "collapsed": true
   },
   "outputs": [],
   "source": [
    "import pandas as pd\n",
    "import datetime\n",
    "import numpy as np\n",
    "import matplotlib.pyplot as plt\n",
    "import seaborn as sns\n",
    "from plotnine import *"
   ]
  },
  {
   "cell_type": "markdown",
   "metadata": {},
   "source": [
    "Reading dataset"
   ]
  },
  {
   "cell_type": "code",
   "execution_count": 2,
   "metadata": {
    "collapsed": true
   },
   "outputs": [],
   "source": [
    "df_original = pd.read_csv(\"Downloads/bikes.csv\", sep = \";\")"
   ]
  },
  {
   "cell_type": "code",
   "execution_count": 3,
   "metadata": {
    "scrolled": false
   },
   "outputs": [
    {
     "data": {
      "text/html": [
       "<div>\n",
       "<style scoped>\n",
       "    .dataframe tbody tr th:only-of-type {\n",
       "        vertical-align: middle;\n",
       "    }\n",
       "\n",
       "    .dataframe tbody tr th {\n",
       "        vertical-align: top;\n",
       "    }\n",
       "\n",
       "    .dataframe thead th {\n",
       "        text-align: right;\n",
       "    }\n",
       "</style>\n",
       "<table border=\"1\" class=\"dataframe\">\n",
       "  <thead>\n",
       "    <tr style=\"text-align: right;\">\n",
       "      <th></th>\n",
       "      <th>Unnamed: 0</th>\n",
       "      <th>date</th>\n",
       "      <th>bikes</th>\n",
       "    </tr>\n",
       "  </thead>\n",
       "  <tbody>\n",
       "    <tr>\n",
       "      <th>0</th>\n",
       "      <td>1</td>\n",
       "      <td>02.01.2019</td>\n",
       "      <td>123</td>\n",
       "    </tr>\n",
       "    <tr>\n",
       "      <th>1</th>\n",
       "      <td>2</td>\n",
       "      <td>03.01.2019</td>\n",
       "      <td>195</td>\n",
       "    </tr>\n",
       "    <tr>\n",
       "      <th>2</th>\n",
       "      <td>3</td>\n",
       "      <td>04.01.2019</td>\n",
       "      <td>202</td>\n",
       "    </tr>\n",
       "    <tr>\n",
       "      <th>3</th>\n",
       "      <td>4</td>\n",
       "      <td>05.01.2019</td>\n",
       "      <td>75</td>\n",
       "    </tr>\n",
       "    <tr>\n",
       "      <th>4</th>\n",
       "      <td>5</td>\n",
       "      <td>07.01.2019</td>\n",
       "      <td>178</td>\n",
       "    </tr>\n",
       "    <tr>\n",
       "      <th>5</th>\n",
       "      <td>6</td>\n",
       "      <td>08.01.2019</td>\n",
       "      <td>129</td>\n",
       "    </tr>\n",
       "    <tr>\n",
       "      <th>6</th>\n",
       "      <td>7</td>\n",
       "      <td>09.01.2019</td>\n",
       "      <td>137</td>\n",
       "    </tr>\n",
       "    <tr>\n",
       "      <th>7</th>\n",
       "      <td>8</td>\n",
       "      <td>10.01.2019</td>\n",
       "      <td>98</td>\n",
       "    </tr>\n",
       "    <tr>\n",
       "      <th>8</th>\n",
       "      <td>9</td>\n",
       "      <td>11.01.2019</td>\n",
       "      <td>134</td>\n",
       "    </tr>\n",
       "    <tr>\n",
       "      <th>9</th>\n",
       "      <td>10</td>\n",
       "      <td>12.01.2019</td>\n",
       "      <td>194</td>\n",
       "    </tr>\n",
       "    <tr>\n",
       "      <th>10</th>\n",
       "      <td>11</td>\n",
       "      <td>13.01.2019</td>\n",
       "      <td>82</td>\n",
       "    </tr>\n",
       "    <tr>\n",
       "      <th>11</th>\n",
       "      <td>12</td>\n",
       "      <td>14.01.2019</td>\n",
       "      <td>154</td>\n",
       "    </tr>\n",
       "    <tr>\n",
       "      <th>12</th>\n",
       "      <td>13</td>\n",
       "      <td>15.01.2019</td>\n",
       "      <td>84</td>\n",
       "    </tr>\n",
       "    <tr>\n",
       "      <th>13</th>\n",
       "      <td>14</td>\n",
       "      <td>16.01.2019</td>\n",
       "      <td>116</td>\n",
       "    </tr>\n",
       "    <tr>\n",
       "      <th>14</th>\n",
       "      <td>15</td>\n",
       "      <td>17.01.2019</td>\n",
       "      <td>136</td>\n",
       "    </tr>\n",
       "  </tbody>\n",
       "</table>\n",
       "</div>"
      ],
      "text/plain": [
       "    Unnamed: 0        date  bikes\n",
       "0            1  02.01.2019    123\n",
       "1            2  03.01.2019    195\n",
       "2            3  04.01.2019    202\n",
       "3            4  05.01.2019     75\n",
       "4            5  07.01.2019    178\n",
       "5            6  08.01.2019    129\n",
       "6            7  09.01.2019    137\n",
       "7            8  10.01.2019     98\n",
       "8            9  11.01.2019    134\n",
       "9           10  12.01.2019    194\n",
       "10          11  13.01.2019     82\n",
       "11          12  14.01.2019    154\n",
       "12          13  15.01.2019     84\n",
       "13          14  16.01.2019    116\n",
       "14          15  17.01.2019    136"
      ]
     },
     "execution_count": 3,
     "metadata": {},
     "output_type": "execute_result"
    }
   ],
   "source": [
    "df_original.head(n=15)"
   ]
  },
  {
   "cell_type": "code",
   "execution_count": 4,
   "metadata": {},
   "outputs": [
    {
     "data": {
      "text/html": [
       "<div>\n",
       "<style scoped>\n",
       "    .dataframe tbody tr th:only-of-type {\n",
       "        vertical-align: middle;\n",
       "    }\n",
       "\n",
       "    .dataframe tbody tr th {\n",
       "        vertical-align: top;\n",
       "    }\n",
       "\n",
       "    .dataframe thead th {\n",
       "        text-align: right;\n",
       "    }\n",
       "</style>\n",
       "<table border=\"1\" class=\"dataframe\">\n",
       "  <thead>\n",
       "    <tr style=\"text-align: right;\">\n",
       "      <th></th>\n",
       "      <th>Unnamed: 0</th>\n",
       "      <th>bikes</th>\n",
       "    </tr>\n",
       "  </thead>\n",
       "  <tbody>\n",
       "    <tr>\n",
       "      <th>count</th>\n",
       "      <td>350.000000</td>\n",
       "      <td>350.000000</td>\n",
       "    </tr>\n",
       "    <tr>\n",
       "      <th>mean</th>\n",
       "      <td>175.500000</td>\n",
       "      <td>184.094286</td>\n",
       "    </tr>\n",
       "    <tr>\n",
       "      <th>std</th>\n",
       "      <td>101.180532</td>\n",
       "      <td>84.708566</td>\n",
       "    </tr>\n",
       "    <tr>\n",
       "      <th>min</th>\n",
       "      <td>1.000000</td>\n",
       "      <td>22.000000</td>\n",
       "    </tr>\n",
       "    <tr>\n",
       "      <th>25%</th>\n",
       "      <td>88.250000</td>\n",
       "      <td>123.000000</td>\n",
       "    </tr>\n",
       "    <tr>\n",
       "      <th>50%</th>\n",
       "      <td>175.500000</td>\n",
       "      <td>170.000000</td>\n",
       "    </tr>\n",
       "    <tr>\n",
       "      <th>75%</th>\n",
       "      <td>262.750000</td>\n",
       "      <td>227.500000</td>\n",
       "    </tr>\n",
       "    <tr>\n",
       "      <th>max</th>\n",
       "      <td>350.000000</td>\n",
       "      <td>571.000000</td>\n",
       "    </tr>\n",
       "  </tbody>\n",
       "</table>\n",
       "</div>"
      ],
      "text/plain": [
       "       Unnamed: 0       bikes\n",
       "count  350.000000  350.000000\n",
       "mean   175.500000  184.094286\n",
       "std    101.180532   84.708566\n",
       "min      1.000000   22.000000\n",
       "25%     88.250000  123.000000\n",
       "50%    175.500000  170.000000\n",
       "75%    262.750000  227.500000\n",
       "max    350.000000  571.000000"
      ]
     },
     "execution_count": 4,
     "metadata": {},
     "output_type": "execute_result"
    }
   ],
   "source": [
    "df_original.describe()"
   ]
  },
  {
   "cell_type": "code",
   "execution_count": 5,
   "metadata": {
    "scrolled": true
   },
   "outputs": [
    {
     "name": "stdout",
     "output_type": "stream",
     "text": [
      "<class 'pandas.core.frame.DataFrame'>\n",
      "RangeIndex: 350 entries, 0 to 349\n",
      "Data columns (total 3 columns):\n",
      " #   Column      Non-Null Count  Dtype \n",
      "---  ------      --------------  ----- \n",
      " 0   Unnamed: 0  350 non-null    int64 \n",
      " 1   date        350 non-null    object\n",
      " 2   bikes       350 non-null    int64 \n",
      "dtypes: int64(2), object(1)\n",
      "memory usage: 8.3+ KB\n"
     ]
    }
   ],
   "source": [
    "df_original.info()"
   ]
  },
  {
   "cell_type": "markdown",
   "metadata": {},
   "source": [
    "#### One-year dataset has 350 days (15 days missing - Sundays or holidays)"
   ]
  },
  {
   "cell_type": "code",
   "execution_count": 6,
   "metadata": {},
   "outputs": [
    {
     "data": {
      "text/plain": [
       "350"
      ]
     },
     "execution_count": 6,
     "metadata": {},
     "output_type": "execute_result"
    }
   ],
   "source": [
    "len(df_original[\"date\"].unique()) #no data duplicates"
   ]
  },
  {
   "cell_type": "code",
   "execution_count": 7,
   "metadata": {},
   "outputs": [
    {
     "data": {
      "text/plain": [
       "Unnamed: 0    0\n",
       "date          0\n",
       "bikes         0\n",
       "dtype: int64"
      ]
     },
     "execution_count": 7,
     "metadata": {},
     "output_type": "execute_result"
    }
   ],
   "source": [
    "df_original.isna().sum() #no missing data"
   ]
  },
  {
   "cell_type": "markdown",
   "metadata": {},
   "source": [
    "Creating a copy of dataset to data manipulation purposes"
   ]
  },
  {
   "cell_type": "code",
   "execution_count": 8,
   "metadata": {
    "scrolled": true
   },
   "outputs": [
    {
     "data": {
      "text/html": [
       "<div>\n",
       "<style scoped>\n",
       "    .dataframe tbody tr th:only-of-type {\n",
       "        vertical-align: middle;\n",
       "    }\n",
       "\n",
       "    .dataframe tbody tr th {\n",
       "        vertical-align: top;\n",
       "    }\n",
       "\n",
       "    .dataframe thead th {\n",
       "        text-align: right;\n",
       "    }\n",
       "</style>\n",
       "<table border=\"1\" class=\"dataframe\">\n",
       "  <thead>\n",
       "    <tr style=\"text-align: right;\">\n",
       "      <th></th>\n",
       "      <th>Unnamed: 0</th>\n",
       "      <th>date</th>\n",
       "      <th>bikes</th>\n",
       "    </tr>\n",
       "  </thead>\n",
       "  <tbody>\n",
       "    <tr>\n",
       "      <th>0</th>\n",
       "      <td>1</td>\n",
       "      <td>02.01.2019</td>\n",
       "      <td>123</td>\n",
       "    </tr>\n",
       "    <tr>\n",
       "      <th>1</th>\n",
       "      <td>2</td>\n",
       "      <td>03.01.2019</td>\n",
       "      <td>195</td>\n",
       "    </tr>\n",
       "    <tr>\n",
       "      <th>2</th>\n",
       "      <td>3</td>\n",
       "      <td>04.01.2019</td>\n",
       "      <td>202</td>\n",
       "    </tr>\n",
       "    <tr>\n",
       "      <th>3</th>\n",
       "      <td>4</td>\n",
       "      <td>05.01.2019</td>\n",
       "      <td>75</td>\n",
       "    </tr>\n",
       "    <tr>\n",
       "      <th>4</th>\n",
       "      <td>5</td>\n",
       "      <td>07.01.2019</td>\n",
       "      <td>178</td>\n",
       "    </tr>\n",
       "  </tbody>\n",
       "</table>\n",
       "</div>"
      ],
      "text/plain": [
       "   Unnamed: 0        date  bikes\n",
       "0           1  02.01.2019    123\n",
       "1           2  03.01.2019    195\n",
       "2           3  04.01.2019    202\n",
       "3           4  05.01.2019     75\n",
       "4           5  07.01.2019    178"
      ]
     },
     "execution_count": 8,
     "metadata": {},
     "output_type": "execute_result"
    }
   ],
   "source": [
    "df = df_original\n",
    "df.head()"
   ]
  },
  {
   "cell_type": "code",
   "execution_count": 9,
   "metadata": {
    "collapsed": true
   },
   "outputs": [],
   "source": [
    "#changing type from object to date \n",
    "\n",
    "def to_dt(x):\n",
    "    x = x.split(\".\") #current data separator\n",
    "    return datetime.date(int(x[2]),int(x[1]),int(x[0])) #year month day\n",
    "\n",
    "df[\"datedt\"] = df['date'].apply(to_dt)\n",
    "#df['datedt'] = pd.to_datetime(df['date']) #quite an unintuitive format yyyy-dd-mm"
   ]
  },
  {
   "cell_type": "markdown",
   "metadata": {},
   "source": [
    "## Sorting by date"
   ]
  },
  {
   "cell_type": "code",
   "execution_count": 10,
   "metadata": {
    "collapsed": true
   },
   "outputs": [],
   "source": [
    "df = df.sort_values(by = [\"datedt\"], ignore_index=True) #overwriting with sorted values"
   ]
  },
  {
   "cell_type": "markdown",
   "metadata": {},
   "source": [
    "#### Weekday column"
   ]
  },
  {
   "cell_type": "code",
   "execution_count": 11,
   "metadata": {},
   "outputs": [
    {
     "data": {
      "text/html": [
       "<div>\n",
       "<style scoped>\n",
       "    .dataframe tbody tr th:only-of-type {\n",
       "        vertical-align: middle;\n",
       "    }\n",
       "\n",
       "    .dataframe tbody tr th {\n",
       "        vertical-align: top;\n",
       "    }\n",
       "\n",
       "    .dataframe thead th {\n",
       "        text-align: right;\n",
       "    }\n",
       "</style>\n",
       "<table border=\"1\" class=\"dataframe\">\n",
       "  <thead>\n",
       "    <tr style=\"text-align: right;\">\n",
       "      <th></th>\n",
       "      <th>Unnamed: 0</th>\n",
       "      <th>date</th>\n",
       "      <th>bikes</th>\n",
       "      <th>datedt</th>\n",
       "      <th>weekdaydt</th>\n",
       "    </tr>\n",
       "  </thead>\n",
       "  <tbody>\n",
       "    <tr>\n",
       "      <th>0</th>\n",
       "      <td>1</td>\n",
       "      <td>02.01.2019</td>\n",
       "      <td>123</td>\n",
       "      <td>2019-01-02</td>\n",
       "      <td>Wednesday</td>\n",
       "    </tr>\n",
       "    <tr>\n",
       "      <th>1</th>\n",
       "      <td>2</td>\n",
       "      <td>03.01.2019</td>\n",
       "      <td>195</td>\n",
       "      <td>2019-01-03</td>\n",
       "      <td>Thursday</td>\n",
       "    </tr>\n",
       "    <tr>\n",
       "      <th>2</th>\n",
       "      <td>3</td>\n",
       "      <td>04.01.2019</td>\n",
       "      <td>202</td>\n",
       "      <td>2019-01-04</td>\n",
       "      <td>Friday</td>\n",
       "    </tr>\n",
       "    <tr>\n",
       "      <th>3</th>\n",
       "      <td>4</td>\n",
       "      <td>05.01.2019</td>\n",
       "      <td>75</td>\n",
       "      <td>2019-01-05</td>\n",
       "      <td>Saturday</td>\n",
       "    </tr>\n",
       "    <tr>\n",
       "      <th>4</th>\n",
       "      <td>5</td>\n",
       "      <td>07.01.2019</td>\n",
       "      <td>178</td>\n",
       "      <td>2019-01-07</td>\n",
       "      <td>Monday</td>\n",
       "    </tr>\n",
       "  </tbody>\n",
       "</table>\n",
       "</div>"
      ],
      "text/plain": [
       "   Unnamed: 0        date  bikes      datedt  weekdaydt\n",
       "0           1  02.01.2019    123  2019-01-02  Wednesday\n",
       "1           2  03.01.2019    195  2019-01-03   Thursday\n",
       "2           3  04.01.2019    202  2019-01-04     Friday\n",
       "3           4  05.01.2019     75  2019-01-05   Saturday\n",
       "4           5  07.01.2019    178  2019-01-07     Monday"
      ]
     },
     "execution_count": 11,
     "metadata": {},
     "output_type": "execute_result"
    }
   ],
   "source": [
    "def to_weekday(x):\n",
    "    return x.strftime(\"%A\") #works only for strings\n",
    "\n",
    "df['weekdaydt'] = df['datedt'].apply(to_weekday)\n",
    "\n",
    "df.head()"
   ]
  },
  {
   "cell_type": "code",
   "execution_count": 12,
   "metadata": {},
   "outputs": [
    {
     "data": {
      "text/html": [
       "<div>\n",
       "<style scoped>\n",
       "    .dataframe tbody tr th:only-of-type {\n",
       "        vertical-align: middle;\n",
       "    }\n",
       "\n",
       "    .dataframe tbody tr th {\n",
       "        vertical-align: top;\n",
       "    }\n",
       "\n",
       "    .dataframe thead th {\n",
       "        text-align: right;\n",
       "    }\n",
       "</style>\n",
       "<table border=\"1\" class=\"dataframe\">\n",
       "  <thead>\n",
       "    <tr style=\"text-align: right;\">\n",
       "      <th></th>\n",
       "      <th>Unnamed: 0</th>\n",
       "      <th>date</th>\n",
       "      <th>bikes</th>\n",
       "      <th>datedt</th>\n",
       "      <th>weekdaydt</th>\n",
       "    </tr>\n",
       "  </thead>\n",
       "  <tbody>\n",
       "    <tr>\n",
       "      <th>0</th>\n",
       "      <td>1</td>\n",
       "      <td>02.01.2019</td>\n",
       "      <td>123</td>\n",
       "      <td>2019-01-02</td>\n",
       "      <td>Wednesday</td>\n",
       "    </tr>\n",
       "    <tr>\n",
       "      <th>1</th>\n",
       "      <td>2</td>\n",
       "      <td>03.01.2019</td>\n",
       "      <td>195</td>\n",
       "      <td>2019-01-03</td>\n",
       "      <td>Thursday</td>\n",
       "    </tr>\n",
       "    <tr>\n",
       "      <th>2</th>\n",
       "      <td>3</td>\n",
       "      <td>04.01.2019</td>\n",
       "      <td>202</td>\n",
       "      <td>2019-01-04</td>\n",
       "      <td>Friday</td>\n",
       "    </tr>\n",
       "    <tr>\n",
       "      <th>3</th>\n",
       "      <td>4</td>\n",
       "      <td>05.01.2019</td>\n",
       "      <td>75</td>\n",
       "      <td>2019-01-05</td>\n",
       "      <td>Saturday</td>\n",
       "    </tr>\n",
       "    <tr>\n",
       "      <th>4</th>\n",
       "      <td>5</td>\n",
       "      <td>07.01.2019</td>\n",
       "      <td>178</td>\n",
       "      <td>2019-01-07</td>\n",
       "      <td>Monday</td>\n",
       "    </tr>\n",
       "  </tbody>\n",
       "</table>\n",
       "</div>"
      ],
      "text/plain": [
       "   Unnamed: 0        date  bikes      datedt  weekdaydt\n",
       "0           1  02.01.2019    123  2019-01-02  Wednesday\n",
       "1           2  03.01.2019    195  2019-01-03   Thursday\n",
       "2           3  04.01.2019    202  2019-01-04     Friday\n",
       "3           4  05.01.2019     75  2019-01-05   Saturday\n",
       "4           5  07.01.2019    178  2019-01-07     Monday"
      ]
     },
     "execution_count": 12,
     "metadata": {},
     "output_type": "execute_result"
    }
   ],
   "source": [
    "df.head()"
   ]
  },
  {
   "cell_type": "markdown",
   "metadata": {},
   "source": [
    "#### Month column"
   ]
  },
  {
   "cell_type": "code",
   "execution_count": 13,
   "metadata": {},
   "outputs": [
    {
     "data": {
      "text/html": [
       "<div>\n",
       "<style scoped>\n",
       "    .dataframe tbody tr th:only-of-type {\n",
       "        vertical-align: middle;\n",
       "    }\n",
       "\n",
       "    .dataframe tbody tr th {\n",
       "        vertical-align: top;\n",
       "    }\n",
       "\n",
       "    .dataframe thead th {\n",
       "        text-align: right;\n",
       "    }\n",
       "</style>\n",
       "<table border=\"1\" class=\"dataframe\">\n",
       "  <thead>\n",
       "    <tr style=\"text-align: right;\">\n",
       "      <th></th>\n",
       "      <th>Unnamed: 0</th>\n",
       "      <th>date</th>\n",
       "      <th>bikes</th>\n",
       "      <th>datedt</th>\n",
       "      <th>weekdaydt</th>\n",
       "      <th>month</th>\n",
       "    </tr>\n",
       "  </thead>\n",
       "  <tbody>\n",
       "    <tr>\n",
       "      <th>0</th>\n",
       "      <td>1</td>\n",
       "      <td>02.01.2019</td>\n",
       "      <td>123</td>\n",
       "      <td>2019-01-02</td>\n",
       "      <td>Wednesday</td>\n",
       "      <td>01 - January</td>\n",
       "    </tr>\n",
       "    <tr>\n",
       "      <th>1</th>\n",
       "      <td>2</td>\n",
       "      <td>03.01.2019</td>\n",
       "      <td>195</td>\n",
       "      <td>2019-01-03</td>\n",
       "      <td>Thursday</td>\n",
       "      <td>01 - January</td>\n",
       "    </tr>\n",
       "    <tr>\n",
       "      <th>2</th>\n",
       "      <td>3</td>\n",
       "      <td>04.01.2019</td>\n",
       "      <td>202</td>\n",
       "      <td>2019-01-04</td>\n",
       "      <td>Friday</td>\n",
       "      <td>01 - January</td>\n",
       "    </tr>\n",
       "    <tr>\n",
       "      <th>3</th>\n",
       "      <td>4</td>\n",
       "      <td>05.01.2019</td>\n",
       "      <td>75</td>\n",
       "      <td>2019-01-05</td>\n",
       "      <td>Saturday</td>\n",
       "      <td>01 - January</td>\n",
       "    </tr>\n",
       "    <tr>\n",
       "      <th>4</th>\n",
       "      <td>5</td>\n",
       "      <td>07.01.2019</td>\n",
       "      <td>178</td>\n",
       "      <td>2019-01-07</td>\n",
       "      <td>Monday</td>\n",
       "      <td>01 - January</td>\n",
       "    </tr>\n",
       "  </tbody>\n",
       "</table>\n",
       "</div>"
      ],
      "text/plain": [
       "   Unnamed: 0        date  bikes      datedt  weekdaydt         month\n",
       "0           1  02.01.2019    123  2019-01-02  Wednesday  01 - January\n",
       "1           2  03.01.2019    195  2019-01-03   Thursday  01 - January\n",
       "2           3  04.01.2019    202  2019-01-04     Friday  01 - January\n",
       "3           4  05.01.2019     75  2019-01-05   Saturday  01 - January\n",
       "4           5  07.01.2019    178  2019-01-07     Monday  01 - January"
      ]
     },
     "execution_count": 13,
     "metadata": {},
     "output_type": "execute_result"
    }
   ],
   "source": [
    "def month(x):\n",
    "    return x.strftime(\"%m\") + \" - \" + x.strftime(\"%B\")\n",
    "\n",
    "df[\"month\"] = df['datedt'].apply(month)\n",
    "\n",
    "df.head()"
   ]
  },
  {
   "cell_type": "code",
   "execution_count": 14,
   "metadata": {},
   "outputs": [
    {
     "name": "stdout",
     "output_type": "stream",
     "text": [
      "2019-01-02\n",
      "2019-12-31\n"
     ]
    }
   ],
   "source": [
    "print (min( df['datedt']) ) \n",
    "print (max( df['datedt']) ) #range 2019"
   ]
  },
  {
   "cell_type": "markdown",
   "metadata": {},
   "source": [
    "#### Season column"
   ]
  },
  {
   "cell_type": "code",
   "execution_count": 15,
   "metadata": {},
   "outputs": [
    {
     "name": "stdout",
     "output_type": "stream",
     "text": [
      "   Unnamed: 0        date  bikes      datedt  weekdaydt         month  Season\n",
      "0           1  02.01.2019    123  2019-01-02  Wednesday  01 - January  Winter\n",
      "1           2  03.01.2019    195  2019-01-03   Thursday  01 - January  Winter\n",
      "2           3  04.01.2019    202  2019-01-04     Friday  01 - January  Winter\n",
      "3           4  05.01.2019     75  2019-01-05   Saturday  01 - January  Winter\n",
      "4           5  07.01.2019    178  2019-01-07     Monday  01 - January  Winter\n",
      "['Winter' 'Spring' 'Summer' 'Autumn']\n"
     ]
    }
   ],
   "source": [
    "def season(date):\n",
    "    if date >= datetime.date(date.year,3,20) and date < datetime.date(date.year,6,20):\n",
    "        return \"Spring\"\n",
    "    if date >= datetime.date(date.year,6,20) and date < datetime.date(date.year,9,22):\n",
    "        return \"Summer\"\n",
    "    if date >= datetime.date(date.year,9,21) and date < datetime.date(date.year,12,23):\n",
    "        return \"Autumn\"\n",
    "    else:\n",
    "        return \"Winter\"\n",
    "\n",
    "\n",
    "#print(df[\"datedt\"].iloc[3]) #personal checks\n",
    "#print(season(df[\"datedt\"].iloc[3]))\n",
    "\n",
    "df[\"Season\"] = df[\"datedt\"].apply(season)\n",
    "\n",
    "print(df.head())\n",
    "#check for unique values\n",
    "print(df[\"Season\"].unique())"
   ]
  },
  {
   "cell_type": "markdown",
   "metadata": {},
   "source": [
    "#### Quarter column"
   ]
  },
  {
   "cell_type": "code",
   "execution_count": 16,
   "metadata": {
    "collapsed": true
   },
   "outputs": [],
   "source": [
    "def to_quarter(x):\n",
    "    return (int((x.month-1)/3) + 1)\n",
    "\n",
    "df[\"quarter\"] = df[\"datedt\"].apply(to_quarter)"
   ]
  },
  {
   "cell_type": "markdown",
   "metadata": {},
   "source": [
    "#### Sundays with shopping "
   ]
  },
  {
   "cell_type": "code",
   "execution_count": 17,
   "metadata": {
    "collapsed": true
   },
   "outputs": [],
   "source": [
    "#Looked for any tabular form online to be read as url but no luck\n",
    "Shopping_Sunday_2019 = [\"2019-01-27\", \"2019-02-24\", \"2019-03-31\", \"2019-04-14\", \"2019-04-28\", \"2019-05-26\", \"2019-06-30\", \n",
    "                        \"2019-07-28\", \"2019-08-25\", \"2019-09-29\", \"2019-10-27\", \"2019-11-24\", \"2019-12-15\", \"2019-12-22\", \n",
    "                        \"2019-12-29\"]"
   ]
  },
  {
   "cell_type": "code",
   "execution_count": 18,
   "metadata": {
    "scrolled": true
   },
   "outputs": [
    {
     "data": {
      "text/html": [
       "<div>\n",
       "<style scoped>\n",
       "    .dataframe tbody tr th:only-of-type {\n",
       "        vertical-align: middle;\n",
       "    }\n",
       "\n",
       "    .dataframe tbody tr th {\n",
       "        vertical-align: top;\n",
       "    }\n",
       "\n",
       "    .dataframe thead th {\n",
       "        text-align: right;\n",
       "    }\n",
       "</style>\n",
       "<table border=\"1\" class=\"dataframe\">\n",
       "  <thead>\n",
       "    <tr style=\"text-align: right;\">\n",
       "      <th></th>\n",
       "      <th>Sundays_dates</th>\n",
       "    </tr>\n",
       "  </thead>\n",
       "  <tbody>\n",
       "    <tr>\n",
       "      <th>0</th>\n",
       "      <td>2019-01-27</td>\n",
       "    </tr>\n",
       "    <tr>\n",
       "      <th>1</th>\n",
       "      <td>2019-02-24</td>\n",
       "    </tr>\n",
       "    <tr>\n",
       "      <th>2</th>\n",
       "      <td>2019-03-31</td>\n",
       "    </tr>\n",
       "    <tr>\n",
       "      <th>3</th>\n",
       "      <td>2019-04-14</td>\n",
       "    </tr>\n",
       "    <tr>\n",
       "      <th>4</th>\n",
       "      <td>2019-04-28</td>\n",
       "    </tr>\n",
       "    <tr>\n",
       "      <th>5</th>\n",
       "      <td>2019-05-26</td>\n",
       "    </tr>\n",
       "    <tr>\n",
       "      <th>6</th>\n",
       "      <td>2019-06-30</td>\n",
       "    </tr>\n",
       "    <tr>\n",
       "      <th>7</th>\n",
       "      <td>2019-07-28</td>\n",
       "    </tr>\n",
       "    <tr>\n",
       "      <th>8</th>\n",
       "      <td>2019-08-25</td>\n",
       "    </tr>\n",
       "    <tr>\n",
       "      <th>9</th>\n",
       "      <td>2019-09-29</td>\n",
       "    </tr>\n",
       "    <tr>\n",
       "      <th>10</th>\n",
       "      <td>2019-10-27</td>\n",
       "    </tr>\n",
       "    <tr>\n",
       "      <th>11</th>\n",
       "      <td>2019-11-24</td>\n",
       "    </tr>\n",
       "    <tr>\n",
       "      <th>12</th>\n",
       "      <td>2019-12-15</td>\n",
       "    </tr>\n",
       "    <tr>\n",
       "      <th>13</th>\n",
       "      <td>2019-12-22</td>\n",
       "    </tr>\n",
       "    <tr>\n",
       "      <th>14</th>\n",
       "      <td>2019-12-29</td>\n",
       "    </tr>\n",
       "  </tbody>\n",
       "</table>\n",
       "</div>"
      ],
      "text/plain": [
       "   Sundays_dates\n",
       "0     2019-01-27\n",
       "1     2019-02-24\n",
       "2     2019-03-31\n",
       "3     2019-04-14\n",
       "4     2019-04-28\n",
       "5     2019-05-26\n",
       "6     2019-06-30\n",
       "7     2019-07-28\n",
       "8     2019-08-25\n",
       "9     2019-09-29\n",
       "10    2019-10-27\n",
       "11    2019-11-24\n",
       "12    2019-12-15\n",
       "13    2019-12-22\n",
       "14    2019-12-29"
      ]
     },
     "execution_count": 18,
     "metadata": {},
     "output_type": "execute_result"
    }
   ],
   "source": [
    "df_shopping_sunday = pd.DataFrame(Shopping_Sunday_2019, columns =['Sundays_dates']) \n",
    "df_shopping_sunday"
   ]
  },
  {
   "cell_type": "code",
   "execution_count": 19,
   "metadata": {
    "collapsed": true
   },
   "outputs": [],
   "source": [
    "a = len(Shopping_Sunday_2019)"
   ]
  },
  {
   "cell_type": "code",
   "execution_count": 20,
   "metadata": {},
   "outputs": [
    {
     "data": {
      "text/plain": [
       "[1, 1, 1, 1, 1, 1, 1, 1, 1, 1, 1, 1, 1, 1, 1]"
      ]
     },
     "execution_count": 20,
     "metadata": {},
     "output_type": "execute_result"
    }
   ],
   "source": [
    "is_shop = [1]*a\n",
    "is_shop"
   ]
  },
  {
   "cell_type": "code",
   "execution_count": 21,
   "metadata": {},
   "outputs": [
    {
     "data": {
      "text/html": [
       "<div>\n",
       "<style scoped>\n",
       "    .dataframe tbody tr th:only-of-type {\n",
       "        vertical-align: middle;\n",
       "    }\n",
       "\n",
       "    .dataframe tbody tr th {\n",
       "        vertical-align: top;\n",
       "    }\n",
       "\n",
       "    .dataframe thead th {\n",
       "        text-align: right;\n",
       "    }\n",
       "</style>\n",
       "<table border=\"1\" class=\"dataframe\">\n",
       "  <thead>\n",
       "    <tr style=\"text-align: right;\">\n",
       "      <th></th>\n",
       "      <th>Shopping_Sunday</th>\n",
       "    </tr>\n",
       "  </thead>\n",
       "  <tbody>\n",
       "    <tr>\n",
       "      <th>0</th>\n",
       "      <td>1</td>\n",
       "    </tr>\n",
       "    <tr>\n",
       "      <th>1</th>\n",
       "      <td>1</td>\n",
       "    </tr>\n",
       "    <tr>\n",
       "      <th>2</th>\n",
       "      <td>1</td>\n",
       "    </tr>\n",
       "    <tr>\n",
       "      <th>3</th>\n",
       "      <td>1</td>\n",
       "    </tr>\n",
       "    <tr>\n",
       "      <th>4</th>\n",
       "      <td>1</td>\n",
       "    </tr>\n",
       "    <tr>\n",
       "      <th>5</th>\n",
       "      <td>1</td>\n",
       "    </tr>\n",
       "    <tr>\n",
       "      <th>6</th>\n",
       "      <td>1</td>\n",
       "    </tr>\n",
       "    <tr>\n",
       "      <th>7</th>\n",
       "      <td>1</td>\n",
       "    </tr>\n",
       "    <tr>\n",
       "      <th>8</th>\n",
       "      <td>1</td>\n",
       "    </tr>\n",
       "    <tr>\n",
       "      <th>9</th>\n",
       "      <td>1</td>\n",
       "    </tr>\n",
       "    <tr>\n",
       "      <th>10</th>\n",
       "      <td>1</td>\n",
       "    </tr>\n",
       "    <tr>\n",
       "      <th>11</th>\n",
       "      <td>1</td>\n",
       "    </tr>\n",
       "    <tr>\n",
       "      <th>12</th>\n",
       "      <td>1</td>\n",
       "    </tr>\n",
       "    <tr>\n",
       "      <th>13</th>\n",
       "      <td>1</td>\n",
       "    </tr>\n",
       "    <tr>\n",
       "      <th>14</th>\n",
       "      <td>1</td>\n",
       "    </tr>\n",
       "  </tbody>\n",
       "</table>\n",
       "</div>"
      ],
      "text/plain": [
       "    Shopping_Sunday\n",
       "0                 1\n",
       "1                 1\n",
       "2                 1\n",
       "3                 1\n",
       "4                 1\n",
       "5                 1\n",
       "6                 1\n",
       "7                 1\n",
       "8                 1\n",
       "9                 1\n",
       "10                1\n",
       "11                1\n",
       "12                1\n",
       "13                1\n",
       "14                1"
      ]
     },
     "execution_count": 21,
     "metadata": {},
     "output_type": "execute_result"
    }
   ],
   "source": [
    "temp = pd.DataFrame(is_shop, columns =['Shopping_Sunday']) \n",
    "temp"
   ]
  },
  {
   "cell_type": "code",
   "execution_count": 22,
   "metadata": {
    "scrolled": true
   },
   "outputs": [
    {
     "name": "stdout",
     "output_type": "stream",
     "text": [
      "<bound method DataFrame.info of    Sundays_dates  Shopping_Sunday\n",
      "0     2019-01-27                1\n",
      "1     2019-02-24                1\n",
      "2     2019-03-31                1\n",
      "3     2019-04-14                1\n",
      "4     2019-04-28                1\n",
      "5     2019-05-26                1\n",
      "6     2019-06-30                1\n",
      "7     2019-07-28                1\n",
      "8     2019-08-25                1\n",
      "9     2019-09-29                1\n",
      "10    2019-10-27                1\n",
      "11    2019-11-24                1\n",
      "12    2019-12-15                1\n",
      "13    2019-12-22                1\n",
      "14    2019-12-29                1>\n",
      "Index(['Sundays_dates', 'Shopping_Sunday'], dtype='object')\n"
     ]
    }
   ],
   "source": [
    "df_c = pd.concat([df_shopping_sunday.reset_index(drop=True), temp], axis=1)\n",
    "#df_c = pd.DataFrame(df_c)\n",
    "\n",
    "print(df_c.info)\n",
    "print(df_c.columns)"
   ]
  },
  {
   "cell_type": "code",
   "execution_count": 23,
   "metadata": {
    "collapsed": true,
    "scrolled": false
   },
   "outputs": [],
   "source": [
    "def to_dta(x):\n",
    "    x = x.split(\"-\") #current data separator\n",
    "    return datetime.date(int(x[0]),int(x[1]),int(x[2])) #year month day\n",
    "\n",
    "df_c['Sundays_dates2'] = df_c['Sundays_dates'].apply(to_dta)\n",
    "#df_c['Sundays_dates2'] = pd.to_datetime(df_c['Sundays_dates']) #need to be commented to be later merged"
   ]
  },
  {
   "cell_type": "code",
   "execution_count": 24,
   "metadata": {
    "scrolled": true
   },
   "outputs": [
    {
     "data": {
      "text/html": [
       "<div>\n",
       "<style scoped>\n",
       "    .dataframe tbody tr th:only-of-type {\n",
       "        vertical-align: middle;\n",
       "    }\n",
       "\n",
       "    .dataframe tbody tr th {\n",
       "        vertical-align: top;\n",
       "    }\n",
       "\n",
       "    .dataframe thead th {\n",
       "        text-align: right;\n",
       "    }\n",
       "</style>\n",
       "<table border=\"1\" class=\"dataframe\">\n",
       "  <thead>\n",
       "    <tr style=\"text-align: right;\">\n",
       "      <th></th>\n",
       "      <th>Unnamed: 0</th>\n",
       "      <th>date</th>\n",
       "      <th>bikes</th>\n",
       "      <th>datedt</th>\n",
       "      <th>weekdaydt</th>\n",
       "      <th>month</th>\n",
       "      <th>Season</th>\n",
       "      <th>quarter</th>\n",
       "      <th>Sundays_dates</th>\n",
       "      <th>Shopping_Sunday</th>\n",
       "      <th>Sundays_dates2</th>\n",
       "    </tr>\n",
       "  </thead>\n",
       "  <tbody>\n",
       "    <tr>\n",
       "      <th>0</th>\n",
       "      <td>1</td>\n",
       "      <td>02.01.2019</td>\n",
       "      <td>123</td>\n",
       "      <td>2019-01-02</td>\n",
       "      <td>Wednesday</td>\n",
       "      <td>01 - January</td>\n",
       "      <td>Winter</td>\n",
       "      <td>1</td>\n",
       "      <td>NaN</td>\n",
       "      <td>NaN</td>\n",
       "      <td>NaN</td>\n",
       "    </tr>\n",
       "    <tr>\n",
       "      <th>1</th>\n",
       "      <td>2</td>\n",
       "      <td>03.01.2019</td>\n",
       "      <td>195</td>\n",
       "      <td>2019-01-03</td>\n",
       "      <td>Thursday</td>\n",
       "      <td>01 - January</td>\n",
       "      <td>Winter</td>\n",
       "      <td>1</td>\n",
       "      <td>NaN</td>\n",
       "      <td>NaN</td>\n",
       "      <td>NaN</td>\n",
       "    </tr>\n",
       "    <tr>\n",
       "      <th>2</th>\n",
       "      <td>3</td>\n",
       "      <td>04.01.2019</td>\n",
       "      <td>202</td>\n",
       "      <td>2019-01-04</td>\n",
       "      <td>Friday</td>\n",
       "      <td>01 - January</td>\n",
       "      <td>Winter</td>\n",
       "      <td>1</td>\n",
       "      <td>NaN</td>\n",
       "      <td>NaN</td>\n",
       "      <td>NaN</td>\n",
       "    </tr>\n",
       "    <tr>\n",
       "      <th>3</th>\n",
       "      <td>4</td>\n",
       "      <td>05.01.2019</td>\n",
       "      <td>75</td>\n",
       "      <td>2019-01-05</td>\n",
       "      <td>Saturday</td>\n",
       "      <td>01 - January</td>\n",
       "      <td>Winter</td>\n",
       "      <td>1</td>\n",
       "      <td>NaN</td>\n",
       "      <td>NaN</td>\n",
       "      <td>NaN</td>\n",
       "    </tr>\n",
       "    <tr>\n",
       "      <th>4</th>\n",
       "      <td>5</td>\n",
       "      <td>07.01.2019</td>\n",
       "      <td>178</td>\n",
       "      <td>2019-01-07</td>\n",
       "      <td>Monday</td>\n",
       "      <td>01 - January</td>\n",
       "      <td>Winter</td>\n",
       "      <td>1</td>\n",
       "      <td>NaN</td>\n",
       "      <td>NaN</td>\n",
       "      <td>NaN</td>\n",
       "    </tr>\n",
       "    <tr>\n",
       "      <th>...</th>\n",
       "      <td>...</td>\n",
       "      <td>...</td>\n",
       "      <td>...</td>\n",
       "      <td>...</td>\n",
       "      <td>...</td>\n",
       "      <td>...</td>\n",
       "      <td>...</td>\n",
       "      <td>...</td>\n",
       "      <td>...</td>\n",
       "      <td>...</td>\n",
       "      <td>...</td>\n",
       "    </tr>\n",
       "    <tr>\n",
       "      <th>345</th>\n",
       "      <td>346</td>\n",
       "      <td>27.12.2019</td>\n",
       "      <td>83</td>\n",
       "      <td>2019-12-27</td>\n",
       "      <td>Friday</td>\n",
       "      <td>12 - December</td>\n",
       "      <td>Winter</td>\n",
       "      <td>4</td>\n",
       "      <td>NaN</td>\n",
       "      <td>NaN</td>\n",
       "      <td>NaN</td>\n",
       "    </tr>\n",
       "    <tr>\n",
       "      <th>346</th>\n",
       "      <td>347</td>\n",
       "      <td>28.12.2019</td>\n",
       "      <td>217</td>\n",
       "      <td>2019-12-28</td>\n",
       "      <td>Saturday</td>\n",
       "      <td>12 - December</td>\n",
       "      <td>Winter</td>\n",
       "      <td>4</td>\n",
       "      <td>NaN</td>\n",
       "      <td>NaN</td>\n",
       "      <td>NaN</td>\n",
       "    </tr>\n",
       "    <tr>\n",
       "      <th>347</th>\n",
       "      <td>348</td>\n",
       "      <td>29.12.2019</td>\n",
       "      <td>82</td>\n",
       "      <td>2019-12-29</td>\n",
       "      <td>Sunday</td>\n",
       "      <td>12 - December</td>\n",
       "      <td>Winter</td>\n",
       "      <td>4</td>\n",
       "      <td>2019-12-29</td>\n",
       "      <td>1.0</td>\n",
       "      <td>2019-12-29</td>\n",
       "    </tr>\n",
       "    <tr>\n",
       "      <th>348</th>\n",
       "      <td>349</td>\n",
       "      <td>30.12.2019</td>\n",
       "      <td>200</td>\n",
       "      <td>2019-12-30</td>\n",
       "      <td>Monday</td>\n",
       "      <td>12 - December</td>\n",
       "      <td>Winter</td>\n",
       "      <td>4</td>\n",
       "      <td>NaN</td>\n",
       "      <td>NaN</td>\n",
       "      <td>NaN</td>\n",
       "    </tr>\n",
       "    <tr>\n",
       "      <th>349</th>\n",
       "      <td>350</td>\n",
       "      <td>31.12.2019</td>\n",
       "      <td>70</td>\n",
       "      <td>2019-12-31</td>\n",
       "      <td>Tuesday</td>\n",
       "      <td>12 - December</td>\n",
       "      <td>Winter</td>\n",
       "      <td>4</td>\n",
       "      <td>NaN</td>\n",
       "      <td>NaN</td>\n",
       "      <td>NaN</td>\n",
       "    </tr>\n",
       "  </tbody>\n",
       "</table>\n",
       "<p>350 rows × 11 columns</p>\n",
       "</div>"
      ],
      "text/plain": [
       "     Unnamed: 0        date  bikes      datedt  weekdaydt          month  \\\n",
       "0             1  02.01.2019    123  2019-01-02  Wednesday   01 - January   \n",
       "1             2  03.01.2019    195  2019-01-03   Thursday   01 - January   \n",
       "2             3  04.01.2019    202  2019-01-04     Friday   01 - January   \n",
       "3             4  05.01.2019     75  2019-01-05   Saturday   01 - January   \n",
       "4             5  07.01.2019    178  2019-01-07     Monday   01 - January   \n",
       "..          ...         ...    ...         ...        ...            ...   \n",
       "345         346  27.12.2019     83  2019-12-27     Friday  12 - December   \n",
       "346         347  28.12.2019    217  2019-12-28   Saturday  12 - December   \n",
       "347         348  29.12.2019     82  2019-12-29     Sunday  12 - December   \n",
       "348         349  30.12.2019    200  2019-12-30     Monday  12 - December   \n",
       "349         350  31.12.2019     70  2019-12-31    Tuesday  12 - December   \n",
       "\n",
       "     Season  quarter Sundays_dates  Shopping_Sunday Sundays_dates2  \n",
       "0    Winter        1           NaN              NaN            NaN  \n",
       "1    Winter        1           NaN              NaN            NaN  \n",
       "2    Winter        1           NaN              NaN            NaN  \n",
       "3    Winter        1           NaN              NaN            NaN  \n",
       "4    Winter        1           NaN              NaN            NaN  \n",
       "..      ...      ...           ...              ...            ...  \n",
       "345  Winter        4           NaN              NaN            NaN  \n",
       "346  Winter        4           NaN              NaN            NaN  \n",
       "347  Winter        4    2019-12-29              1.0     2019-12-29  \n",
       "348  Winter        4           NaN              NaN            NaN  \n",
       "349  Winter        4           NaN              NaN            NaN  \n",
       "\n",
       "[350 rows x 11 columns]"
      ]
     },
     "execution_count": 24,
     "metadata": {},
     "output_type": "execute_result"
    }
   ],
   "source": [
    "df_Shop_Sund = pd.merge(df, df_c, how = \"left\", left_on = \"datedt\", right_on=\"Sundays_dates2\")\n",
    "df_Shop_Sund\n"
   ]
  },
  {
   "cell_type": "code",
   "execution_count": 25,
   "metadata": {
    "scrolled": true
   },
   "outputs": [
    {
     "data": {
      "text/plain": [
       "15.0"
      ]
     },
     "execution_count": 25,
     "metadata": {},
     "output_type": "execute_result"
    }
   ],
   "source": [
    "df_Shop_Sund['Shopping_Sunday'].sum()"
   ]
  },
  {
   "cell_type": "code",
   "execution_count": 26,
   "metadata": {
    "collapsed": true
   },
   "outputs": [],
   "source": [
    "df_Shop_Sund = df_Shop_Sund.drop(['Sundays_dates', \"Sundays_dates2\"], axis = 1)\n",
    "df_Shop_Sund[\"Shopping_Sunday\"] = df_Shop_Sund[\"Shopping_Sunday\"].fillna(0)"
   ]
  },
  {
   "cell_type": "markdown",
   "metadata": {},
   "source": [
    "## Average sale values per weekday, season and month"
   ]
  },
  {
   "cell_type": "code",
   "execution_count": 27,
   "metadata": {
    "scrolled": true
   },
   "outputs": [
    {
     "data": {
      "text/html": [
       "<div>\n",
       "<style scoped>\n",
       "    .dataframe tbody tr th:only-of-type {\n",
       "        vertical-align: middle;\n",
       "    }\n",
       "\n",
       "    .dataframe tbody tr th {\n",
       "        vertical-align: top;\n",
       "    }\n",
       "\n",
       "    .dataframe thead th {\n",
       "        text-align: right;\n",
       "    }\n",
       "</style>\n",
       "<table border=\"1\" class=\"dataframe\">\n",
       "  <thead>\n",
       "    <tr style=\"text-align: right;\">\n",
       "      <th></th>\n",
       "      <th>weekdaydt</th>\n",
       "      <th>Unnamed: 0</th>\n",
       "      <th>bikes</th>\n",
       "      <th>quarter</th>\n",
       "    </tr>\n",
       "  </thead>\n",
       "  <tbody>\n",
       "    <tr>\n",
       "      <th>0</th>\n",
       "      <td>Friday</td>\n",
       "      <td>174.100000</td>\n",
       "      <td>236.340000</td>\n",
       "      <td>2.480000</td>\n",
       "    </tr>\n",
       "    <tr>\n",
       "      <th>1</th>\n",
       "      <td>Monday</td>\n",
       "      <td>175.803922</td>\n",
       "      <td>182.607843</td>\n",
       "      <td>2.509804</td>\n",
       "    </tr>\n",
       "    <tr>\n",
       "      <th>2</th>\n",
       "      <td>Saturday</td>\n",
       "      <td>176.627451</td>\n",
       "      <td>211.686275</td>\n",
       "      <td>2.509804</td>\n",
       "    </tr>\n",
       "    <tr>\n",
       "      <th>3</th>\n",
       "      <td>Sunday</td>\n",
       "      <td>180.647059</td>\n",
       "      <td>113.117647</td>\n",
       "      <td>2.529412</td>\n",
       "    </tr>\n",
       "    <tr>\n",
       "      <th>4</th>\n",
       "      <td>Thursday</td>\n",
       "      <td>166.937500</td>\n",
       "      <td>190.666667</td>\n",
       "      <td>2.416667</td>\n",
       "    </tr>\n",
       "    <tr>\n",
       "      <th>5</th>\n",
       "      <td>Tuesday</td>\n",
       "      <td>181.340000</td>\n",
       "      <td>178.480000</td>\n",
       "      <td>2.580000</td>\n",
       "    </tr>\n",
       "    <tr>\n",
       "      <th>6</th>\n",
       "      <td>Wednesday</td>\n",
       "      <td>172.510204</td>\n",
       "      <td>176.775510</td>\n",
       "      <td>2.489796</td>\n",
       "    </tr>\n",
       "  </tbody>\n",
       "</table>\n",
       "</div>"
      ],
      "text/plain": [
       "   weekdaydt  Unnamed: 0       bikes   quarter\n",
       "0     Friday  174.100000  236.340000  2.480000\n",
       "1     Monday  175.803922  182.607843  2.509804\n",
       "2   Saturday  176.627451  211.686275  2.509804\n",
       "3     Sunday  180.647059  113.117647  2.529412\n",
       "4   Thursday  166.937500  190.666667  2.416667\n",
       "5    Tuesday  181.340000  178.480000  2.580000\n",
       "6  Wednesday  172.510204  176.775510  2.489796"
      ]
     },
     "execution_count": 27,
     "metadata": {},
     "output_type": "execute_result"
    }
   ],
   "source": [
    "av_sale_weekday = df.groupby('weekdaydt').mean().reset_index()\n",
    "av_sale_weekday #only bikes column makes sense"
   ]
  },
  {
   "cell_type": "code",
   "execution_count": 28,
   "metadata": {},
   "outputs": [
    {
     "data": {
      "image/png": "[encoded data removed]",
      "text/plain": [
       "<Figure size 432x288 with 1 Axes>"
      ]
     },
     "metadata": {},
     "output_type": "display_data"
    }
   ],
   "source": [
    "fig, ax = plt.subplots()\n",
    "ax.bar(av_sale_weekday['weekdaydt'], av_sale_weekday['bikes'])\n",
    "plt.title(\"Average sale per a weekday\")\n",
    "plt.xticks(rotation=90)\n",
    "ax.set_ylabel(\"Numer of sold items\")\n",
    "plt.show()"
   ]
  },
  {
   "cell_type": "code",
   "execution_count": 29,
   "metadata": {},
   "outputs": [
    {
     "data": {
      "text/html": [
       "<div>\n",
       "<style scoped>\n",
       "    .dataframe tbody tr th:only-of-type {\n",
       "        vertical-align: middle;\n",
       "    }\n",
       "\n",
       "    .dataframe tbody tr th {\n",
       "        vertical-align: top;\n",
       "    }\n",
       "\n",
       "    .dataframe thead th {\n",
       "        text-align: right;\n",
       "    }\n",
       "</style>\n",
       "<table border=\"1\" class=\"dataframe\">\n",
       "  <thead>\n",
       "    <tr style=\"text-align: right;\">\n",
       "      <th></th>\n",
       "      <th>Season</th>\n",
       "      <th>Unnamed: 0</th>\n",
       "      <th>bikes</th>\n",
       "      <th>quarter</th>\n",
       "    </tr>\n",
       "  </thead>\n",
       "  <tbody>\n",
       "    <tr>\n",
       "      <th>0</th>\n",
       "      <td>Autumn</td>\n",
       "      <td>299.000000</td>\n",
       "      <td>149.617978</td>\n",
       "      <td>3.898876</td>\n",
       "    </tr>\n",
       "    <tr>\n",
       "      <th>1</th>\n",
       "      <td>Spring</td>\n",
       "      <td>119.500000</td>\n",
       "      <td>222.279070</td>\n",
       "      <td>1.860465</td>\n",
       "    </tr>\n",
       "    <tr>\n",
       "      <th>2</th>\n",
       "      <td>Summer</td>\n",
       "      <td>208.500000</td>\n",
       "      <td>210.282609</td>\n",
       "      <td>2.880435</td>\n",
       "    </tr>\n",
       "    <tr>\n",
       "      <th>3</th>\n",
       "      <td>Winter</td>\n",
       "      <td>64.518072</td>\n",
       "      <td>152.469880</td>\n",
       "      <td>1.253012</td>\n",
       "    </tr>\n",
       "  </tbody>\n",
       "</table>\n",
       "</div>"
      ],
      "text/plain": [
       "   Season  Unnamed: 0       bikes   quarter\n",
       "0  Autumn  299.000000  149.617978  3.898876\n",
       "1  Spring  119.500000  222.279070  1.860465\n",
       "2  Summer  208.500000  210.282609  2.880435\n",
       "3  Winter   64.518072  152.469880  1.253012"
      ]
     },
     "execution_count": 29,
     "metadata": {},
     "output_type": "execute_result"
    }
   ],
   "source": [
    "Sale_season = df.groupby('Season').mean().reset_index()\n",
    "Sale_season"
   ]
  },
  {
   "cell_type": "code",
   "execution_count": 30,
   "metadata": {},
   "outputs": [
    {
     "data": {
      "image/png": "[encoded data removed]",
      "text/plain": [
       "<Figure size 432x288 with 1 Axes>"
      ]
     },
     "metadata": {},
     "output_type": "display_data"
    }
   ],
   "source": [
    "fig, ax = plt.subplots()\n",
    "ax.bar(Sale_season['Season'], Sale_season['bikes'])\n",
    "ax.set_ylabel(\"Numer of sold items\")\n",
    "plt.title(\"Average sale per a season\")\n",
    "plt.show()"
   ]
  },
  {
   "cell_type": "code",
   "execution_count": 31,
   "metadata": {},
   "outputs": [
    {
     "data": {
      "text/html": [
       "<div>\n",
       "<style scoped>\n",
       "    .dataframe tbody tr th:only-of-type {\n",
       "        vertical-align: middle;\n",
       "    }\n",
       "\n",
       "    .dataframe tbody tr th {\n",
       "        vertical-align: top;\n",
       "    }\n",
       "\n",
       "    .dataframe thead th {\n",
       "        text-align: right;\n",
       "    }\n",
       "</style>\n",
       "<table border=\"1\" class=\"dataframe\">\n",
       "  <thead>\n",
       "    <tr style=\"text-align: right;\">\n",
       "      <th></th>\n",
       "      <th>month</th>\n",
       "      <th>Unnamed: 0</th>\n",
       "      <th>bikes</th>\n",
       "      <th>quarter</th>\n",
       "    </tr>\n",
       "  </thead>\n",
       "  <tbody>\n",
       "    <tr>\n",
       "      <th>0</th>\n",
       "      <td>01 - January</td>\n",
       "      <td>15.0</td>\n",
       "      <td>144.586207</td>\n",
       "      <td>1.0</td>\n",
       "    </tr>\n",
       "    <tr>\n",
       "      <th>1</th>\n",
       "      <td>02 - February</td>\n",
       "      <td>43.5</td>\n",
       "      <td>156.250000</td>\n",
       "      <td>1.0</td>\n",
       "    </tr>\n",
       "    <tr>\n",
       "      <th>2</th>\n",
       "      <td>03 - March</td>\n",
       "      <td>73.0</td>\n",
       "      <td>170.451613</td>\n",
       "      <td>1.0</td>\n",
       "    </tr>\n",
       "    <tr>\n",
       "      <th>3</th>\n",
       "      <td>04 - April</td>\n",
       "      <td>102.5</td>\n",
       "      <td>208.214286</td>\n",
       "      <td>2.0</td>\n",
       "    </tr>\n",
       "    <tr>\n",
       "      <th>4</th>\n",
       "      <td>05 - May</td>\n",
       "      <td>131.0</td>\n",
       "      <td>248.517241</td>\n",
       "      <td>2.0</td>\n",
       "    </tr>\n",
       "    <tr>\n",
       "      <th>5</th>\n",
       "      <td>06 - June</td>\n",
       "      <td>159.5</td>\n",
       "      <td>230.607143</td>\n",
       "      <td>2.0</td>\n",
       "    </tr>\n",
       "    <tr>\n",
       "      <th>6</th>\n",
       "      <td>07 - July</td>\n",
       "      <td>189.0</td>\n",
       "      <td>258.516129</td>\n",
       "      <td>3.0</td>\n",
       "    </tr>\n",
       "    <tr>\n",
       "      <th>7</th>\n",
       "      <td>08 - August</td>\n",
       "      <td>219.0</td>\n",
       "      <td>210.206897</td>\n",
       "      <td>3.0</td>\n",
       "    </tr>\n",
       "    <tr>\n",
       "      <th>8</th>\n",
       "      <td>09 - September</td>\n",
       "      <td>248.5</td>\n",
       "      <td>129.300000</td>\n",
       "      <td>3.0</td>\n",
       "    </tr>\n",
       "    <tr>\n",
       "      <th>9</th>\n",
       "      <td>10 - October</td>\n",
       "      <td>278.5</td>\n",
       "      <td>161.533333</td>\n",
       "      <td>4.0</td>\n",
       "    </tr>\n",
       "    <tr>\n",
       "      <th>10</th>\n",
       "      <td>11 - November</td>\n",
       "      <td>307.5</td>\n",
       "      <td>150.214286</td>\n",
       "      <td>4.0</td>\n",
       "    </tr>\n",
       "    <tr>\n",
       "      <th>11</th>\n",
       "      <td>12 - December</td>\n",
       "      <td>336.0</td>\n",
       "      <td>139.517241</td>\n",
       "      <td>4.0</td>\n",
       "    </tr>\n",
       "  </tbody>\n",
       "</table>\n",
       "</div>"
      ],
      "text/plain": [
       "             month  Unnamed: 0       bikes  quarter\n",
       "0     01 - January        15.0  144.586207      1.0\n",
       "1    02 - February        43.5  156.250000      1.0\n",
       "2       03 - March        73.0  170.451613      1.0\n",
       "3       04 - April       102.5  208.214286      2.0\n",
       "4         05 - May       131.0  248.517241      2.0\n",
       "5        06 - June       159.5  230.607143      2.0\n",
       "6        07 - July       189.0  258.516129      3.0\n",
       "7      08 - August       219.0  210.206897      3.0\n",
       "8   09 - September       248.5  129.300000      3.0\n",
       "9     10 - October       278.5  161.533333      4.0\n",
       "10   11 - November       307.5  150.214286      4.0\n",
       "11   12 - December       336.0  139.517241      4.0"
      ]
     },
     "execution_count": 31,
     "metadata": {},
     "output_type": "execute_result"
    }
   ],
   "source": [
    "Sale_month = df.groupby('month').mean().reset_index()\n",
    "Sale_month"
   ]
  },
  {
   "cell_type": "code",
   "execution_count": 32,
   "metadata": {
    "scrolled": false
   },
   "outputs": [
    {
     "data": {
      "image/png": "[encoded data removed]",
      "text/plain": [
       "<Figure size 432x288 with 1 Axes>"
      ]
     },
     "metadata": {},
     "output_type": "display_data"
    }
   ],
   "source": [
    "fig, ax = plt.subplots()\n",
    "ax.bar(Sale_month['month'], Sale_month['bikes'])\n",
    "ax.set_ylabel(\"Numer of sold items\")\n",
    "ax.set_xlabel(\"Months in 2019\")\n",
    "plt.xticks(rotation=90)\n",
    "plt.title(\"Average sale per a season\")\n",
    "plt.show()"
   ]
  },
  {
   "cell_type": "markdown",
   "metadata": {},
   "source": [
    "#### End of Summer is clear. Average number of sold bikes is less for Sept then for August. Also seasonality is visible."
   ]
  },
  {
   "cell_type": "markdown",
   "metadata": {},
   "source": [
    "## Bikes' sales histogram"
   ]
  },
  {
   "cell_type": "code",
   "execution_count": 33,
   "metadata": {
    "scrolled": true
   },
   "outputs": [
    {
     "data": {
      "image/png": "[encoded data removed]",
      "text/plain": [
       "<Figure size 432x288 with 1 Axes>"
      ]
     },
     "metadata": {},
     "output_type": "display_data"
    }
   ],
   "source": [
    "df1 = df.pivot(columns=\"weekdaydt\", values=\"bikes\").plot.hist(bins=10, alpha = 0.5)\n",
    "\n",
    "plt.show()"
   ]
  },
  {
   "cell_type": "markdown",
   "metadata": {},
   "source": [
    "##### View not clear enough, I'm trying on"
   ]
  },
  {
   "cell_type": "code",
   "execution_count": 34,
   "metadata": {
    "scrolled": true
   },
   "outputs": [
    {
     "name": "stderr",
     "output_type": "stream",
     "text": [
      "C:\\Users\\anton\\Anaconda3\\lib\\site-packages\\plotnine\\stats\\stat_bin.py:93: PlotnineWarning: 'stat_bin()' using 'bins = 19'. Pick better value with 'binwidth'.\n"
     ]
    },
    {
     "data": {
      "image/png": "[encoded data removed]",
      "text/plain": [
       "<Figure size 640x480 with 1 Axes>"
      ]
     },
     "metadata": {},
     "output_type": "display_data"
    },
    {
     "data": {
      "text/plain": [
       "<ggplot: (-9223371924478991409)>"
      ]
     },
     "execution_count": 34,
     "metadata": {},
     "output_type": "execute_result"
    }
   ],
   "source": [
    "ggplot(data = df) +\\\n",
    "geom_histogram(aes(x='bikes', fill = 'weekdaydt'), position = 'identity', alpha = 0.5) +\\\n",
    "ggtitle(\"Bikes' sale per a weekday\")"
   ]
  },
  {
   "cell_type": "markdown",
   "metadata": {},
   "source": [
    "##### Still inconclusive"
   ]
  },
  {
   "cell_type": "code",
   "execution_count": 35,
   "metadata": {
    "scrolled": false
   },
   "outputs": [
    {
     "name": "stdout",
     "output_type": "stream",
     "text": [
      "['Wednesday' 'Thursday' 'Friday' 'Saturday' 'Monday' 'Tuesday' 'Sunday']\n"
     ]
    }
   ],
   "source": [
    "print(df['weekdaydt'].unique())"
   ]
  },
  {
   "cell_type": "code",
   "execution_count": 36,
   "metadata": {
    "collapsed": true
   },
   "outputs": [],
   "source": [
    "df_Wed = df[df.weekdaydt == 'Wednesday']\n",
    "df_Mon = df[df.weekdaydt == 'Monday']\n",
    "df_Tue = df[df.weekdaydt == 'Tuesday']\n",
    "df_Thursday = df[df.weekdaydt == 'Thursday']\n",
    "df_Friday = df[df.weekdaydt == 'Friday']\n",
    "df_Saturday = df[df.weekdaydt == 'Saturday']\n",
    "df_Sunday = df[df.weekdaydt == 'Sunday']"
   ]
  },
  {
   "cell_type": "code",
   "execution_count": 37,
   "metadata": {
    "scrolled": false
   },
   "outputs": [
    {
     "data": {
      "image/png": "[encoded data removed]",
      "text/plain": [
       "<Figure size 1080x1080 with 7 Axes>"
      ]
     },
     "metadata": {},
     "output_type": "display_data"
    },
    {
     "data": {
      "text/plain": [
       "<function matplotlib.pyplot.hist>"
      ]
     },
     "execution_count": 37,
     "metadata": {},
     "output_type": "execute_result"
    }
   ],
   "source": [
    "#to make sure that we see what we see let's do a multiplot!\n",
    "step=20 #binwidth\n",
    "fig, ax = plt.subplots(7,1, sharey=True, sharex = True, figsize=(15,15))\n",
    "ax[0].hist(df_Mon['bikes'], color = \"b\", bins = range(0, max(df['bikes']), step))\n",
    "ax[1].hist(df_Tue['bikes'], color = 'g', bins = range(0, max(df['bikes']), step))\n",
    "ax[2].hist(df_Wed['bikes'], color = \"orange\", bins = range(0, max(df['bikes']), step))\n",
    "ax[3].hist(df_Thursday['bikes'],color = \"black\", bins = range(0, max(df['bikes']), step))\n",
    "ax[4].hist(df_Friday['bikes'], color = \"magenta\", bins = range(0, max(df['bikes']), step))\n",
    "ax[5].hist(df_Saturday['bikes'],color = \"purple\", bins = range(0, max(df['bikes']), step))\n",
    "ax[6].hist(df_Sunday['bikes'], color = 'grey', bins = range(0, max(df['bikes']), step))\n",
    "ax[0].set_xlabel(\"Monday\")\n",
    "ax[1].set_xlabel(\"Tuesday\")\n",
    "ax[2].set_xlabel(\"Wednesday\")\n",
    "ax[3].set_xlabel(\"Thursday\")\n",
    "ax[4].set_xlabel(\"Friday\")\n",
    "ax[5].set_xlabel(\"Saturday\")\n",
    "ax[6].set_xlabel(\"Sunday\")\n",
    "plt.suptitle('Sales per a weekday')\n",
    "plt.show()\n",
    "plt.hist"
   ]
  },
  {
   "cell_type": "markdown",
   "metadata": {},
   "source": [
    "## Histograms interpretation:\n",
    "1. Sunday looks different - bigger number of smaller transactions. Sunday also has no long right tail: Sunday's distrib has less dispersion.\n",
    "2. Distributions per day are different than each other. \n",
    "3. Friday tends to be bi-/multimomial in comparison to Sunday or Saturday\n",
    "4. There are observations in tails. This is worth to investigate these outliers when building any regression based models. "
   ]
  },
  {
   "cell_type": "code",
   "execution_count": 38,
   "metadata": {},
   "outputs": [
    {
     "data": {
      "text/html": [
       "<div>\n",
       "<style scoped>\n",
       "    .dataframe tbody tr th:only-of-type {\n",
       "        vertical-align: middle;\n",
       "    }\n",
       "\n",
       "    .dataframe tbody tr th {\n",
       "        vertical-align: top;\n",
       "    }\n",
       "\n",
       "    .dataframe thead th {\n",
       "        text-align: right;\n",
       "    }\n",
       "</style>\n",
       "<table border=\"1\" class=\"dataframe\">\n",
       "  <thead>\n",
       "    <tr style=\"text-align: right;\">\n",
       "      <th></th>\n",
       "      <th>bikes</th>\n",
       "    </tr>\n",
       "    <tr>\n",
       "      <th>weekdaydt</th>\n",
       "      <th></th>\n",
       "    </tr>\n",
       "  </thead>\n",
       "  <tbody>\n",
       "    <tr>\n",
       "      <th>Friday</th>\n",
       "      <td>50</td>\n",
       "    </tr>\n",
       "    <tr>\n",
       "      <th>Monday</th>\n",
       "      <td>51</td>\n",
       "    </tr>\n",
       "    <tr>\n",
       "      <th>Saturday</th>\n",
       "      <td>51</td>\n",
       "    </tr>\n",
       "    <tr>\n",
       "      <th>Sunday</th>\n",
       "      <td>51</td>\n",
       "    </tr>\n",
       "    <tr>\n",
       "      <th>Thursday</th>\n",
       "      <td>48</td>\n",
       "    </tr>\n",
       "    <tr>\n",
       "      <th>Tuesday</th>\n",
       "      <td>50</td>\n",
       "    </tr>\n",
       "    <tr>\n",
       "      <th>Wednesday</th>\n",
       "      <td>49</td>\n",
       "    </tr>\n",
       "  </tbody>\n",
       "</table>\n",
       "</div>"
      ],
      "text/plain": [
       "           bikes\n",
       "weekdaydt       \n",
       "Friday        50\n",
       "Monday        51\n",
       "Saturday      51\n",
       "Sunday        51\n",
       "Thursday      48\n",
       "Tuesday       50\n",
       "Wednesday     49"
      ]
     },
     "execution_count": 38,
     "metadata": {},
     "output_type": "execute_result"
    }
   ],
   "source": [
    "df.groupby(\"weekdaydt\").count().iloc[:,2:3] #check for numbers of representation"
   ]
  },
  {
   "cell_type": "markdown",
   "metadata": {},
   "source": [
    "## Time-Series plot"
   ]
  },
  {
   "cell_type": "code",
   "execution_count": 39,
   "metadata": {},
   "outputs": [
    {
     "data": {
      "text/html": [
       "<div>\n",
       "<style scoped>\n",
       "    .dataframe tbody tr th:only-of-type {\n",
       "        vertical-align: middle;\n",
       "    }\n",
       "\n",
       "    .dataframe tbody tr th {\n",
       "        vertical-align: top;\n",
       "    }\n",
       "\n",
       "    .dataframe thead th {\n",
       "        text-align: right;\n",
       "    }\n",
       "</style>\n",
       "<table border=\"1\" class=\"dataframe\">\n",
       "  <thead>\n",
       "    <tr style=\"text-align: right;\">\n",
       "      <th></th>\n",
       "      <th>Unnamed: 0</th>\n",
       "      <th>date</th>\n",
       "      <th>bikes</th>\n",
       "      <th>datedt</th>\n",
       "      <th>weekdaydt</th>\n",
       "      <th>month</th>\n",
       "      <th>Season</th>\n",
       "      <th>quarter</th>\n",
       "    </tr>\n",
       "  </thead>\n",
       "  <tbody>\n",
       "    <tr>\n",
       "      <th>0</th>\n",
       "      <td>1</td>\n",
       "      <td>02.01.2019</td>\n",
       "      <td>123</td>\n",
       "      <td>2019-01-02</td>\n",
       "      <td>Wednesday</td>\n",
       "      <td>01 - January</td>\n",
       "      <td>Winter</td>\n",
       "      <td>1</td>\n",
       "    </tr>\n",
       "    <tr>\n",
       "      <th>1</th>\n",
       "      <td>2</td>\n",
       "      <td>03.01.2019</td>\n",
       "      <td>195</td>\n",
       "      <td>2019-01-03</td>\n",
       "      <td>Thursday</td>\n",
       "      <td>01 - January</td>\n",
       "      <td>Winter</td>\n",
       "      <td>1</td>\n",
       "    </tr>\n",
       "    <tr>\n",
       "      <th>2</th>\n",
       "      <td>3</td>\n",
       "      <td>04.01.2019</td>\n",
       "      <td>202</td>\n",
       "      <td>2019-01-04</td>\n",
       "      <td>Friday</td>\n",
       "      <td>01 - January</td>\n",
       "      <td>Winter</td>\n",
       "      <td>1</td>\n",
       "    </tr>\n",
       "    <tr>\n",
       "      <th>3</th>\n",
       "      <td>4</td>\n",
       "      <td>05.01.2019</td>\n",
       "      <td>75</td>\n",
       "      <td>2019-01-05</td>\n",
       "      <td>Saturday</td>\n",
       "      <td>01 - January</td>\n",
       "      <td>Winter</td>\n",
       "      <td>1</td>\n",
       "    </tr>\n",
       "    <tr>\n",
       "      <th>4</th>\n",
       "      <td>5</td>\n",
       "      <td>07.01.2019</td>\n",
       "      <td>178</td>\n",
       "      <td>2019-01-07</td>\n",
       "      <td>Monday</td>\n",
       "      <td>01 - January</td>\n",
       "      <td>Winter</td>\n",
       "      <td>1</td>\n",
       "    </tr>\n",
       "  </tbody>\n",
       "</table>\n",
       "</div>"
      ],
      "text/plain": [
       "   Unnamed: 0        date  bikes      datedt  weekdaydt         month  Season  \\\n",
       "0           1  02.01.2019    123  2019-01-02  Wednesday  01 - January  Winter   \n",
       "1           2  03.01.2019    195  2019-01-03   Thursday  01 - January  Winter   \n",
       "2           3  04.01.2019    202  2019-01-04     Friday  01 - January  Winter   \n",
       "3           4  05.01.2019     75  2019-01-05   Saturday  01 - January  Winter   \n",
       "4           5  07.01.2019    178  2019-01-07     Monday  01 - January  Winter   \n",
       "\n",
       "   quarter  \n",
       "0        1  \n",
       "1        1  \n",
       "2        1  \n",
       "3        1  \n",
       "4        1  "
      ]
     },
     "execution_count": 39,
     "metadata": {},
     "output_type": "execute_result"
    }
   ],
   "source": [
    "ts_df = df\n",
    "ts_df.head()"
   ]
  },
  {
   "cell_type": "code",
   "execution_count": 40,
   "metadata": {},
   "outputs": [
    {
     "data": {
      "text/html": [
       "<div>\n",
       "<style scoped>\n",
       "    .dataframe tbody tr th:only-of-type {\n",
       "        vertical-align: middle;\n",
       "    }\n",
       "\n",
       "    .dataframe tbody tr th {\n",
       "        vertical-align: top;\n",
       "    }\n",
       "\n",
       "    .dataframe thead th {\n",
       "        text-align: right;\n",
       "    }\n",
       "</style>\n",
       "<table border=\"1\" class=\"dataframe\">\n",
       "  <thead>\n",
       "    <tr style=\"text-align: right;\">\n",
       "      <th></th>\n",
       "      <th>Unnamed: 0</th>\n",
       "      <th>date</th>\n",
       "      <th>bikes</th>\n",
       "      <th>weekdaydt</th>\n",
       "      <th>month</th>\n",
       "      <th>Season</th>\n",
       "      <th>quarter</th>\n",
       "    </tr>\n",
       "    <tr>\n",
       "      <th>datedt</th>\n",
       "      <th></th>\n",
       "      <th></th>\n",
       "      <th></th>\n",
       "      <th></th>\n",
       "      <th></th>\n",
       "      <th></th>\n",
       "      <th></th>\n",
       "    </tr>\n",
       "  </thead>\n",
       "  <tbody>\n",
       "    <tr>\n",
       "      <th>2019-01-02</th>\n",
       "      <td>1</td>\n",
       "      <td>02.01.2019</td>\n",
       "      <td>123</td>\n",
       "      <td>Wednesday</td>\n",
       "      <td>01 - January</td>\n",
       "      <td>Winter</td>\n",
       "      <td>1</td>\n",
       "    </tr>\n",
       "    <tr>\n",
       "      <th>2019-01-03</th>\n",
       "      <td>2</td>\n",
       "      <td>03.01.2019</td>\n",
       "      <td>195</td>\n",
       "      <td>Thursday</td>\n",
       "      <td>01 - January</td>\n",
       "      <td>Winter</td>\n",
       "      <td>1</td>\n",
       "    </tr>\n",
       "    <tr>\n",
       "      <th>2019-01-04</th>\n",
       "      <td>3</td>\n",
       "      <td>04.01.2019</td>\n",
       "      <td>202</td>\n",
       "      <td>Friday</td>\n",
       "      <td>01 - January</td>\n",
       "      <td>Winter</td>\n",
       "      <td>1</td>\n",
       "    </tr>\n",
       "    <tr>\n",
       "      <th>2019-01-05</th>\n",
       "      <td>4</td>\n",
       "      <td>05.01.2019</td>\n",
       "      <td>75</td>\n",
       "      <td>Saturday</td>\n",
       "      <td>01 - January</td>\n",
       "      <td>Winter</td>\n",
       "      <td>1</td>\n",
       "    </tr>\n",
       "    <tr>\n",
       "      <th>2019-01-07</th>\n",
       "      <td>5</td>\n",
       "      <td>07.01.2019</td>\n",
       "      <td>178</td>\n",
       "      <td>Monday</td>\n",
       "      <td>01 - January</td>\n",
       "      <td>Winter</td>\n",
       "      <td>1</td>\n",
       "    </tr>\n",
       "  </tbody>\n",
       "</table>\n",
       "</div>"
      ],
      "text/plain": [
       "            Unnamed: 0        date  bikes  weekdaydt         month  Season  \\\n",
       "datedt                                                                       \n",
       "2019-01-02           1  02.01.2019    123  Wednesday  01 - January  Winter   \n",
       "2019-01-03           2  03.01.2019    195   Thursday  01 - January  Winter   \n",
       "2019-01-04           3  04.01.2019    202     Friday  01 - January  Winter   \n",
       "2019-01-05           4  05.01.2019     75   Saturday  01 - January  Winter   \n",
       "2019-01-07           5  07.01.2019    178     Monday  01 - January  Winter   \n",
       "\n",
       "            quarter  \n",
       "datedt               \n",
       "2019-01-02        1  \n",
       "2019-01-03        1  \n",
       "2019-01-04        1  \n",
       "2019-01-05        1  \n",
       "2019-01-07        1  "
      ]
     },
     "execution_count": 40,
     "metadata": {},
     "output_type": "execute_result"
    }
   ],
   "source": [
    "ts_df.set_index('datedt', inplace = True)\n",
    "ts_df.head()"
   ]
  },
  {
   "cell_type": "code",
   "execution_count": 41,
   "metadata": {
    "collapsed": true
   },
   "outputs": [],
   "source": [
    "#setting the frequency\n",
    "ts_df = ts_df.asfreq('d')"
   ]
  },
  {
   "cell_type": "code",
   "execution_count": 42,
   "metadata": {
    "scrolled": true
   },
   "outputs": [
    {
     "data": {
      "text/plain": [
       "Unnamed: 0    14\n",
       "date          14\n",
       "bikes         14\n",
       "weekdaydt     14\n",
       "month         14\n",
       "Season        14\n",
       "quarter       14\n",
       "dtype: int64"
      ]
     },
     "execution_count": 42,
     "metadata": {},
     "output_type": "execute_result"
    }
   ],
   "source": [
    "ts_df.isna().sum() #14 missing daily observations"
   ]
  },
  {
   "cell_type": "markdown",
   "metadata": {},
   "source": [
    "#### As I'm not sure what is your approach to handling with missing values - I assure you I would ask :) For now I decide to use fillna() Front Filling method\n",
    "\n",
    "List of ideas:\n",
    "    1. Front filling | and this is what I'm doing\n",
    "    2. Back filling\n",
    "    3. Filing with neighbours average\n",
    "    4. Filling with the same value that is the average of all values \n",
    "    5. Fill with zero as no bikes were sold that day\n",
    "    6. Not filling in (leave blank)\n",
    "\n"
   ]
  },
  {
   "cell_type": "code",
   "execution_count": 43,
   "metadata": {
    "collapsed": true
   },
   "outputs": [],
   "source": [
    "ts_df['bikes'] = ts_df['bikes'].fillna(method ='ffill')"
   ]
  },
  {
   "cell_type": "code",
   "execution_count": 44,
   "metadata": {},
   "outputs": [
    {
     "data": {
      "text/html": [
       "<div>\n",
       "<style scoped>\n",
       "    .dataframe tbody tr th:only-of-type {\n",
       "        vertical-align: middle;\n",
       "    }\n",
       "\n",
       "    .dataframe tbody tr th {\n",
       "        vertical-align: top;\n",
       "    }\n",
       "\n",
       "    .dataframe thead th {\n",
       "        text-align: right;\n",
       "    }\n",
       "</style>\n",
       "<table border=\"1\" class=\"dataframe\">\n",
       "  <thead>\n",
       "    <tr style=\"text-align: right;\">\n",
       "      <th></th>\n",
       "      <th>Unnamed: 0</th>\n",
       "      <th>date</th>\n",
       "      <th>bikes</th>\n",
       "      <th>weekdaydt</th>\n",
       "      <th>month</th>\n",
       "      <th>Season</th>\n",
       "      <th>quarter</th>\n",
       "    </tr>\n",
       "    <tr>\n",
       "      <th>datedt</th>\n",
       "      <th></th>\n",
       "      <th></th>\n",
       "      <th></th>\n",
       "      <th></th>\n",
       "      <th></th>\n",
       "      <th></th>\n",
       "      <th></th>\n",
       "    </tr>\n",
       "  </thead>\n",
       "  <tbody>\n",
       "    <tr>\n",
       "      <th>2019-01-02</th>\n",
       "      <td>1.0</td>\n",
       "      <td>02.01.2019</td>\n",
       "      <td>123.0</td>\n",
       "      <td>Wednesday</td>\n",
       "      <td>01 - January</td>\n",
       "      <td>Winter</td>\n",
       "      <td>1.0</td>\n",
       "    </tr>\n",
       "    <tr>\n",
       "      <th>2019-01-03</th>\n",
       "      <td>2.0</td>\n",
       "      <td>03.01.2019</td>\n",
       "      <td>195.0</td>\n",
       "      <td>Thursday</td>\n",
       "      <td>01 - January</td>\n",
       "      <td>Winter</td>\n",
       "      <td>1.0</td>\n",
       "    </tr>\n",
       "    <tr>\n",
       "      <th>2019-01-04</th>\n",
       "      <td>3.0</td>\n",
       "      <td>04.01.2019</td>\n",
       "      <td>202.0</td>\n",
       "      <td>Friday</td>\n",
       "      <td>01 - January</td>\n",
       "      <td>Winter</td>\n",
       "      <td>1.0</td>\n",
       "    </tr>\n",
       "    <tr>\n",
       "      <th>2019-01-05</th>\n",
       "      <td>4.0</td>\n",
       "      <td>05.01.2019</td>\n",
       "      <td>75.0</td>\n",
       "      <td>Saturday</td>\n",
       "      <td>01 - January</td>\n",
       "      <td>Winter</td>\n",
       "      <td>1.0</td>\n",
       "    </tr>\n",
       "    <tr>\n",
       "      <th>2019-01-06</th>\n",
       "      <td>NaN</td>\n",
       "      <td>NaN</td>\n",
       "      <td>75.0</td>\n",
       "      <td>NaN</td>\n",
       "      <td>NaN</td>\n",
       "      <td>NaN</td>\n",
       "      <td>NaN</td>\n",
       "    </tr>\n",
       "  </tbody>\n",
       "</table>\n",
       "</div>"
      ],
      "text/plain": [
       "            Unnamed: 0        date  bikes  weekdaydt         month  Season  \\\n",
       "datedt                                                                       \n",
       "2019-01-02         1.0  02.01.2019  123.0  Wednesday  01 - January  Winter   \n",
       "2019-01-03         2.0  03.01.2019  195.0   Thursday  01 - January  Winter   \n",
       "2019-01-04         3.0  04.01.2019  202.0     Friday  01 - January  Winter   \n",
       "2019-01-05         4.0  05.01.2019   75.0   Saturday  01 - January  Winter   \n",
       "2019-01-06         NaN         NaN   75.0        NaN           NaN     NaN   \n",
       "\n",
       "            quarter  \n",
       "datedt               \n",
       "2019-01-02      1.0  \n",
       "2019-01-03      1.0  \n",
       "2019-01-04      1.0  \n",
       "2019-01-05      1.0  \n",
       "2019-01-06      NaN  "
      ]
     },
     "execution_count": 44,
     "metadata": {},
     "output_type": "execute_result"
    }
   ],
   "source": [
    "ts_df.head()"
   ]
  },
  {
   "cell_type": "code",
   "execution_count": 45,
   "metadata": {},
   "outputs": [
    {
     "data": {
      "text/plain": [
       "<bound method DataFrame.info of             Unnamed: 0        date  bikes  weekdaydt          month  Season  \\\n",
       "datedt                                                                        \n",
       "2019-01-02         1.0  02.01.2019  123.0  Wednesday   01 - January  Winter   \n",
       "2019-01-03         2.0  03.01.2019  195.0   Thursday   01 - January  Winter   \n",
       "2019-01-04         3.0  04.01.2019  202.0     Friday   01 - January  Winter   \n",
       "2019-01-05         4.0  05.01.2019   75.0   Saturday   01 - January  Winter   \n",
       "2019-01-06         NaN         NaN   75.0        NaN            NaN     NaN   \n",
       "...                ...         ...    ...        ...            ...     ...   \n",
       "2019-12-27       346.0  27.12.2019   83.0     Friday  12 - December  Winter   \n",
       "2019-12-28       347.0  28.12.2019  217.0   Saturday  12 - December  Winter   \n",
       "2019-12-29       348.0  29.12.2019   82.0     Sunday  12 - December  Winter   \n",
       "2019-12-30       349.0  30.12.2019  200.0     Monday  12 - December  Winter   \n",
       "2019-12-31       350.0  31.12.2019   70.0    Tuesday  12 - December  Winter   \n",
       "\n",
       "            quarter  \n",
       "datedt               \n",
       "2019-01-02      1.0  \n",
       "2019-01-03      1.0  \n",
       "2019-01-04      1.0  \n",
       "2019-01-05      1.0  \n",
       "2019-01-06      NaN  \n",
       "...             ...  \n",
       "2019-12-27      4.0  \n",
       "2019-12-28      4.0  \n",
       "2019-12-29      4.0  \n",
       "2019-12-30      4.0  \n",
       "2019-12-31      4.0  \n",
       "\n",
       "[364 rows x 7 columns]>"
      ]
     },
     "execution_count": 45,
     "metadata": {},
     "output_type": "execute_result"
    }
   ],
   "source": [
    "ts_df.info"
   ]
  },
  {
   "cell_type": "code",
   "execution_count": 46,
   "metadata": {
    "scrolled": true
   },
   "outputs": [
    {
     "data": {
      "text/html": [
       "<div>\n",
       "<style scoped>\n",
       "    .dataframe tbody tr th:only-of-type {\n",
       "        vertical-align: middle;\n",
       "    }\n",
       "\n",
       "    .dataframe tbody tr th {\n",
       "        vertical-align: top;\n",
       "    }\n",
       "\n",
       "    .dataframe thead th {\n",
       "        text-align: right;\n",
       "    }\n",
       "</style>\n",
       "<table border=\"1\" class=\"dataframe\">\n",
       "  <thead>\n",
       "    <tr style=\"text-align: right;\">\n",
       "      <th></th>\n",
       "      <th>Unnamed: 0</th>\n",
       "      <th>date</th>\n",
       "      <th>bikes</th>\n",
       "      <th>weekdaydt</th>\n",
       "      <th>month</th>\n",
       "      <th>Season</th>\n",
       "      <th>quarter</th>\n",
       "    </tr>\n",
       "    <tr>\n",
       "      <th>datedt</th>\n",
       "      <th></th>\n",
       "      <th></th>\n",
       "      <th></th>\n",
       "      <th></th>\n",
       "      <th></th>\n",
       "      <th></th>\n",
       "      <th></th>\n",
       "    </tr>\n",
       "  </thead>\n",
       "  <tbody>\n",
       "    <tr>\n",
       "      <th>2019-07-30</th>\n",
       "      <td>203.0</td>\n",
       "      <td>30.07.2019</td>\n",
       "      <td>571.0</td>\n",
       "      <td>Tuesday</td>\n",
       "      <td>07 - July</td>\n",
       "      <td>Summer</td>\n",
       "      <td>3.0</td>\n",
       "    </tr>\n",
       "    <tr>\n",
       "      <th>2019-07-31</th>\n",
       "      <td>204.0</td>\n",
       "      <td>31.07.2019</td>\n",
       "      <td>548.0</td>\n",
       "      <td>Wednesday</td>\n",
       "      <td>07 - July</td>\n",
       "      <td>Summer</td>\n",
       "      <td>3.0</td>\n",
       "    </tr>\n",
       "    <tr>\n",
       "      <th>2019-05-17</th>\n",
       "      <td>131.0</td>\n",
       "      <td>17.05.2019</td>\n",
       "      <td>490.0</td>\n",
       "      <td>Friday</td>\n",
       "      <td>05 - May</td>\n",
       "      <td>Spring</td>\n",
       "      <td>2.0</td>\n",
       "    </tr>\n",
       "    <tr>\n",
       "      <th>2019-07-26</th>\n",
       "      <td>199.0</td>\n",
       "      <td>26.07.2019</td>\n",
       "      <td>480.0</td>\n",
       "      <td>Friday</td>\n",
       "      <td>07 - July</td>\n",
       "      <td>Summer</td>\n",
       "      <td>3.0</td>\n",
       "    </tr>\n",
       "    <tr>\n",
       "      <th>2019-07-19</th>\n",
       "      <td>192.0</td>\n",
       "      <td>19.07.2019</td>\n",
       "      <td>478.0</td>\n",
       "      <td>Friday</td>\n",
       "      <td>07 - July</td>\n",
       "      <td>Summer</td>\n",
       "      <td>3.0</td>\n",
       "    </tr>\n",
       "  </tbody>\n",
       "</table>\n",
       "</div>"
      ],
      "text/plain": [
       "            Unnamed: 0        date  bikes  weekdaydt      month  Season  \\\n",
       "datedt                                                                    \n",
       "2019-07-30       203.0  30.07.2019  571.0    Tuesday  07 - July  Summer   \n",
       "2019-07-31       204.0  31.07.2019  548.0  Wednesday  07 - July  Summer   \n",
       "2019-05-17       131.0  17.05.2019  490.0     Friday   05 - May  Spring   \n",
       "2019-07-26       199.0  26.07.2019  480.0     Friday  07 - July  Summer   \n",
       "2019-07-19       192.0  19.07.2019  478.0     Friday  07 - July  Summer   \n",
       "\n",
       "            quarter  \n",
       "datedt               \n",
       "2019-07-30      3.0  \n",
       "2019-07-31      3.0  \n",
       "2019-05-17      2.0  \n",
       "2019-07-26      3.0  \n",
       "2019-07-19      3.0  "
      ]
     },
     "execution_count": 46,
     "metadata": {},
     "output_type": "execute_result"
    }
   ],
   "source": [
    "#helping dataframe to visualisation purposes\n",
    "top5 = ts_df.reset_index()\n",
    "top5 = top5.sort_values(by = [\"bikes\"], ascending = False).head(n=5)\n",
    "top5.set_index('datedt', inplace = True)\n",
    "top5"
   ]
  },
  {
   "cell_type": "markdown",
   "metadata": {},
   "source": [
    "#### Time Series plot with top 5 "
   ]
  },
  {
   "cell_type": "code",
   "execution_count": 47,
   "metadata": {
    "scrolled": true
   },
   "outputs": [
    {
     "data": {
      "image/png": "[encoded data removed]",
      "text/plain": [
       "<Figure size 1080x720 with 1 Axes>"
      ]
     },
     "metadata": {},
     "output_type": "display_data"
    }
   ],
   "source": [
    "fig, ax = plt.subplots(figsize=(15, 10))\n",
    "ax.plot(ts_df.index, ts_df['bikes'], color = 'b')\n",
    "ax.plot(top5.index, top5[\"bikes\"], marker = \"v\", color = \"r\", linestyle = \"\")\n",
    "ax.set_xlabel(\"Time\")\n",
    "ax.set_ylabel(\"Number of sold bikes\")\n",
    "plt.title(\"Sales in 2019\")\n",
    "plt.show()"
   ]
  },
  {
   "cell_type": "markdown",
   "metadata": {
    "collapsed": true
   },
   "source": [
    "## Other variables that might be helpful with bikes sales forecasting\n",
    "1. Weather data, especially percipitation - this is daily data, so the data structure is the same as the sales data\n",
    "2. Geographic data (city/country, tourist resort)\n",
    "3. Sales type: retail/wholesale. This pick in May 2019 could have been a veturilo?\n",
    "\n",
    "I think these above are easy to be joined and can be helpful in making subgroups."
   ]
  },
  {
   "cell_type": "code",
   "execution_count": null,
   "metadata": {
    "collapsed": true
   },
   "outputs": [],
   "source": []
  }
 ],
 "metadata": {
  "kernelspec": {
   "display_name": "Python 3",
   "language": "python",
   "name": "python3"
  },
  "language_info": {
   "codemirror_mode": {
    "name": "ipython",
    "version": 3
   },
   "file_extension": ".py",
   "mimetype": "text/x-python",
   "name": "python",
   "nbconvert_exporter": "python",
   "pygments_lexer": "ipython3",
   "version": "3.6.1"
  }
 },
 "nbformat": 4,
 "nbformat_minor": 2
}
